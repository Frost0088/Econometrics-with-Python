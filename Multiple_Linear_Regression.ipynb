{
  "nbformat": 4,
  "nbformat_minor": 0,
  "metadata": {
    "colab": {
      "provenance": [],
      "authorship_tag": "ABX9TyMMdIbvFWZX9nmU8MZaxwwg",
      "include_colab_link": true
    },
    "kernelspec": {
      "name": "python3",
      "display_name": "Python 3"
    },
    "language_info": {
      "name": "python"
    }
  },
  "cells": [
    {
      "cell_type": "markdown",
      "metadata": {
        "id": "view-in-github",
        "colab_type": "text"
      },
      "source": [
        "<a href=\"https://colab.research.google.com/github/Frost0088/Econometrics-with-Python/blob/main/Multiple_Linear_Regression.ipynb\" target=\"_parent\"><img src=\"https://colab.research.google.com/assets/colab-badge.svg\" alt=\"Open In Colab\"/></a>"
      ]
    },
    {
      "cell_type": "markdown",
      "source": [
        "# **Multiple Linear Regression Analysis**"
      ],
      "metadata": {
        "id": "rcbTj2Bk-rLA"
      }
    },
    {
      "cell_type": "code",
      "source": [
        "pip install wooldridge"
      ],
      "metadata": {
        "colab": {
          "base_uri": "https://localhost:8080/"
        },
        "id": "1FtQCjtJJrl5",
        "outputId": "41248784-ee63-431b-a8d9-0a70071735ce"
      },
      "execution_count": 2,
      "outputs": [
        {
          "output_type": "stream",
          "name": "stdout",
          "text": [
            "Collecting wooldridge\n",
            "  Downloading wooldridge-0.4.4-py3-none-any.whl (5.1 MB)\n",
            "\u001b[?25l     \u001b[90m━━━━━━━━━━━━━━━━━━━━━━━━━━━━━━━━━━━━━━━━\u001b[0m \u001b[32m0.0/5.1 MB\u001b[0m \u001b[31m?\u001b[0m eta \u001b[36m-:--:--\u001b[0m\r\u001b[2K     \u001b[91m╸\u001b[0m\u001b[90m━━━━━━━━━━━━━━━━━━━━━━━━━━━━━━━━━━━━━━━\u001b[0m \u001b[32m0.1/5.1 MB\u001b[0m \u001b[31m3.4 MB/s\u001b[0m eta \u001b[36m0:00:02\u001b[0m\r\u001b[2K     \u001b[91m━━━━━━\u001b[0m\u001b[91m╸\u001b[0m\u001b[90m━━━━━━━━━━━━━━━━━━━━━━━━━━━━━━━━━\u001b[0m \u001b[32m0.9/5.1 MB\u001b[0m \u001b[31m12.7 MB/s\u001b[0m eta \u001b[36m0:00:01\u001b[0m\r\u001b[2K     \u001b[91m━━━━━━━━━━━━━━━━━━━━━━━━━━━━━━━━━━━\u001b[0m\u001b[90m╺\u001b[0m\u001b[90m━━━━\u001b[0m \u001b[32m4.5/5.1 MB\u001b[0m \u001b[31m43.1 MB/s\u001b[0m eta \u001b[36m0:00:01\u001b[0m\r\u001b[2K     \u001b[91m━━━━━━━━━━━━━━━━━━━━━━━━━━━━━━━━━━━━━━━\u001b[0m\u001b[91m╸\u001b[0m \u001b[32m5.1/5.1 MB\u001b[0m \u001b[31m46.2 MB/s\u001b[0m eta \u001b[36m0:00:01\u001b[0m\r\u001b[2K     \u001b[90m━━━━━━━━━━━━━━━━━━━━━━━━━━━━━━━━━━━━━━━━\u001b[0m \u001b[32m5.1/5.1 MB\u001b[0m \u001b[31m34.8 MB/s\u001b[0m eta \u001b[36m0:00:00\u001b[0m\n",
            "\u001b[?25hRequirement already satisfied: pandas in /usr/local/lib/python3.10/dist-packages (from wooldridge) (1.5.3)\n",
            "Requirement already satisfied: python-dateutil>=2.8.1 in /usr/local/lib/python3.10/dist-packages (from pandas->wooldridge) (2.8.2)\n",
            "Requirement already satisfied: pytz>=2020.1 in /usr/local/lib/python3.10/dist-packages (from pandas->wooldridge) (2023.4)\n",
            "Requirement already satisfied: numpy>=1.21.0 in /usr/local/lib/python3.10/dist-packages (from pandas->wooldridge) (1.25.2)\n",
            "Requirement already satisfied: six>=1.5 in /usr/local/lib/python3.10/dist-packages (from python-dateutil>=2.8.1->pandas->wooldridge) (1.16.0)\n",
            "Installing collected packages: wooldridge\n",
            "Successfully installed wooldridge-0.4.4\n"
          ]
        }
      ]
    },
    {
      "cell_type": "code",
      "execution_count": 3,
      "metadata": {
        "id": "gw6RNulz86uH"
      },
      "outputs": [],
      "source": [
        "# importing requied packages\n",
        "import numpy as np\n",
        "import pandas as pd\n",
        "import matplotlib.pyplot as plt\n",
        "import seaborn as sns\n",
        "import plotly.express as px\n",
        "import statsmodels.api as sm\n",
        "import wooldridge as wo"
      ]
    },
    {
      "cell_type": "markdown",
      "source": [
        "Data: Ceo salary dataset"
      ],
      "metadata": {
        "id": "rqvsoFQN_INV"
      }
    },
    {
      "cell_type": "code",
      "source": [
        "# loading the dataset\n",
        "data = pd.DataFrame(wo.data(\"ceosal2\"))\n",
        "\n",
        "# first five rows\n",
        "data.head()"
      ],
      "metadata": {
        "colab": {
          "base_uri": "https://localhost:8080/",
          "height": 206
        },
        "id": "RI3u2GQu_DX0",
        "outputId": "14f46029-c3ba-4844-d207-9ae06c99c25a"
      },
      "execution_count": 7,
      "outputs": [
        {
          "output_type": "execute_result",
          "data": {
            "text/plain": [
              "   salary  age  college  grad  comten  ceoten   sales  profits   mktval  \\\n",
              "0    1161   49        1     1       9       2  6200.0      966  23200.0   \n",
              "1     600   43        1     1      10      10   283.0       48   1100.0   \n",
              "2     379   51        1     1       9       3   169.0       40   1100.0   \n",
              "3     651   55        1     0      22      22  1100.0      -54   1000.0   \n",
              "4     497   44        1     1       8       6   351.0       28    387.0   \n",
              "\n",
              "    lsalary    lsales    lmktval  comtensq  ceotensq   profmarg  \n",
              "0  7.057037  8.732305  10.051908        81         4  15.580646  \n",
              "1  6.396930  5.645447   7.003066       100       100  16.961130  \n",
              "2  5.937536  5.129899   7.003066        81         9  23.668638  \n",
              "3  6.478509  7.003066   6.907755       484       484  -4.909091  \n",
              "4  6.208590  5.860786   5.958425        64        36   7.977208  "
            ],
            "text/html": [
              "\n",
              "  <div id=\"df-ab810580-187f-4fc9-8c60-601d847495be\" class=\"colab-df-container\">\n",
              "    <div>\n",
              "<style scoped>\n",
              "    .dataframe tbody tr th:only-of-type {\n",
              "        vertical-align: middle;\n",
              "    }\n",
              "\n",
              "    .dataframe tbody tr th {\n",
              "        vertical-align: top;\n",
              "    }\n",
              "\n",
              "    .dataframe thead th {\n",
              "        text-align: right;\n",
              "    }\n",
              "</style>\n",
              "<table border=\"1\" class=\"dataframe\">\n",
              "  <thead>\n",
              "    <tr style=\"text-align: right;\">\n",
              "      <th></th>\n",
              "      <th>salary</th>\n",
              "      <th>age</th>\n",
              "      <th>college</th>\n",
              "      <th>grad</th>\n",
              "      <th>comten</th>\n",
              "      <th>ceoten</th>\n",
              "      <th>sales</th>\n",
              "      <th>profits</th>\n",
              "      <th>mktval</th>\n",
              "      <th>lsalary</th>\n",
              "      <th>lsales</th>\n",
              "      <th>lmktval</th>\n",
              "      <th>comtensq</th>\n",
              "      <th>ceotensq</th>\n",
              "      <th>profmarg</th>\n",
              "    </tr>\n",
              "  </thead>\n",
              "  <tbody>\n",
              "    <tr>\n",
              "      <th>0</th>\n",
              "      <td>1161</td>\n",
              "      <td>49</td>\n",
              "      <td>1</td>\n",
              "      <td>1</td>\n",
              "      <td>9</td>\n",
              "      <td>2</td>\n",
              "      <td>6200.0</td>\n",
              "      <td>966</td>\n",
              "      <td>23200.0</td>\n",
              "      <td>7.057037</td>\n",
              "      <td>8.732305</td>\n",
              "      <td>10.051908</td>\n",
              "      <td>81</td>\n",
              "      <td>4</td>\n",
              "      <td>15.580646</td>\n",
              "    </tr>\n",
              "    <tr>\n",
              "      <th>1</th>\n",
              "      <td>600</td>\n",
              "      <td>43</td>\n",
              "      <td>1</td>\n",
              "      <td>1</td>\n",
              "      <td>10</td>\n",
              "      <td>10</td>\n",
              "      <td>283.0</td>\n",
              "      <td>48</td>\n",
              "      <td>1100.0</td>\n",
              "      <td>6.396930</td>\n",
              "      <td>5.645447</td>\n",
              "      <td>7.003066</td>\n",
              "      <td>100</td>\n",
              "      <td>100</td>\n",
              "      <td>16.961130</td>\n",
              "    </tr>\n",
              "    <tr>\n",
              "      <th>2</th>\n",
              "      <td>379</td>\n",
              "      <td>51</td>\n",
              "      <td>1</td>\n",
              "      <td>1</td>\n",
              "      <td>9</td>\n",
              "      <td>3</td>\n",
              "      <td>169.0</td>\n",
              "      <td>40</td>\n",
              "      <td>1100.0</td>\n",
              "      <td>5.937536</td>\n",
              "      <td>5.129899</td>\n",
              "      <td>7.003066</td>\n",
              "      <td>81</td>\n",
              "      <td>9</td>\n",
              "      <td>23.668638</td>\n",
              "    </tr>\n",
              "    <tr>\n",
              "      <th>3</th>\n",
              "      <td>651</td>\n",
              "      <td>55</td>\n",
              "      <td>1</td>\n",
              "      <td>0</td>\n",
              "      <td>22</td>\n",
              "      <td>22</td>\n",
              "      <td>1100.0</td>\n",
              "      <td>-54</td>\n",
              "      <td>1000.0</td>\n",
              "      <td>6.478509</td>\n",
              "      <td>7.003066</td>\n",
              "      <td>6.907755</td>\n",
              "      <td>484</td>\n",
              "      <td>484</td>\n",
              "      <td>-4.909091</td>\n",
              "    </tr>\n",
              "    <tr>\n",
              "      <th>4</th>\n",
              "      <td>497</td>\n",
              "      <td>44</td>\n",
              "      <td>1</td>\n",
              "      <td>1</td>\n",
              "      <td>8</td>\n",
              "      <td>6</td>\n",
              "      <td>351.0</td>\n",
              "      <td>28</td>\n",
              "      <td>387.0</td>\n",
              "      <td>6.208590</td>\n",
              "      <td>5.860786</td>\n",
              "      <td>5.958425</td>\n",
              "      <td>64</td>\n",
              "      <td>36</td>\n",
              "      <td>7.977208</td>\n",
              "    </tr>\n",
              "  </tbody>\n",
              "</table>\n",
              "</div>\n",
              "    <div class=\"colab-df-buttons\">\n",
              "\n",
              "  <div class=\"colab-df-container\">\n",
              "    <button class=\"colab-df-convert\" onclick=\"convertToInteractive('df-ab810580-187f-4fc9-8c60-601d847495be')\"\n",
              "            title=\"Convert this dataframe to an interactive table.\"\n",
              "            style=\"display:none;\">\n",
              "\n",
              "  <svg xmlns=\"http://www.w3.org/2000/svg\" height=\"24px\" viewBox=\"0 -960 960 960\">\n",
              "    <path d=\"M120-120v-720h720v720H120Zm60-500h600v-160H180v160Zm220 220h160v-160H400v160Zm0 220h160v-160H400v160ZM180-400h160v-160H180v160Zm440 0h160v-160H620v160ZM180-180h160v-160H180v160Zm440 0h160v-160H620v160Z\"/>\n",
              "  </svg>\n",
              "    </button>\n",
              "\n",
              "  <style>\n",
              "    .colab-df-container {\n",
              "      display:flex;\n",
              "      gap: 12px;\n",
              "    }\n",
              "\n",
              "    .colab-df-convert {\n",
              "      background-color: #E8F0FE;\n",
              "      border: none;\n",
              "      border-radius: 50%;\n",
              "      cursor: pointer;\n",
              "      display: none;\n",
              "      fill: #1967D2;\n",
              "      height: 32px;\n",
              "      padding: 0 0 0 0;\n",
              "      width: 32px;\n",
              "    }\n",
              "\n",
              "    .colab-df-convert:hover {\n",
              "      background-color: #E2EBFA;\n",
              "      box-shadow: 0px 1px 2px rgba(60, 64, 67, 0.3), 0px 1px 3px 1px rgba(60, 64, 67, 0.15);\n",
              "      fill: #174EA6;\n",
              "    }\n",
              "\n",
              "    .colab-df-buttons div {\n",
              "      margin-bottom: 4px;\n",
              "    }\n",
              "\n",
              "    [theme=dark] .colab-df-convert {\n",
              "      background-color: #3B4455;\n",
              "      fill: #D2E3FC;\n",
              "    }\n",
              "\n",
              "    [theme=dark] .colab-df-convert:hover {\n",
              "      background-color: #434B5C;\n",
              "      box-shadow: 0px 1px 3px 1px rgba(0, 0, 0, 0.15);\n",
              "      filter: drop-shadow(0px 1px 2px rgba(0, 0, 0, 0.3));\n",
              "      fill: #FFFFFF;\n",
              "    }\n",
              "  </style>\n",
              "\n",
              "    <script>\n",
              "      const buttonEl =\n",
              "        document.querySelector('#df-ab810580-187f-4fc9-8c60-601d847495be button.colab-df-convert');\n",
              "      buttonEl.style.display =\n",
              "        google.colab.kernel.accessAllowed ? 'block' : 'none';\n",
              "\n",
              "      async function convertToInteractive(key) {\n",
              "        const element = document.querySelector('#df-ab810580-187f-4fc9-8c60-601d847495be');\n",
              "        const dataTable =\n",
              "          await google.colab.kernel.invokeFunction('convertToInteractive',\n",
              "                                                    [key], {});\n",
              "        if (!dataTable) return;\n",
              "\n",
              "        const docLinkHtml = 'Like what you see? Visit the ' +\n",
              "          '<a target=\"_blank\" href=https://colab.research.google.com/notebooks/data_table.ipynb>data table notebook</a>'\n",
              "          + ' to learn more about interactive tables.';\n",
              "        element.innerHTML = '';\n",
              "        dataTable['output_type'] = 'display_data';\n",
              "        await google.colab.output.renderOutput(dataTable, element);\n",
              "        const docLink = document.createElement('div');\n",
              "        docLink.innerHTML = docLinkHtml;\n",
              "        element.appendChild(docLink);\n",
              "      }\n",
              "    </script>\n",
              "  </div>\n",
              "\n",
              "\n",
              "<div id=\"df-fd44fcb8-f43d-4ff0-80dc-4fdfab91d4de\">\n",
              "  <button class=\"colab-df-quickchart\" onclick=\"quickchart('df-fd44fcb8-f43d-4ff0-80dc-4fdfab91d4de')\"\n",
              "            title=\"Suggest charts\"\n",
              "            style=\"display:none;\">\n",
              "\n",
              "<svg xmlns=\"http://www.w3.org/2000/svg\" height=\"24px\"viewBox=\"0 0 24 24\"\n",
              "     width=\"24px\">\n",
              "    <g>\n",
              "        <path d=\"M19 3H5c-1.1 0-2 .9-2 2v14c0 1.1.9 2 2 2h14c1.1 0 2-.9 2-2V5c0-1.1-.9-2-2-2zM9 17H7v-7h2v7zm4 0h-2V7h2v10zm4 0h-2v-4h2v4z\"/>\n",
              "    </g>\n",
              "</svg>\n",
              "  </button>\n",
              "\n",
              "<style>\n",
              "  .colab-df-quickchart {\n",
              "      --bg-color: #E8F0FE;\n",
              "      --fill-color: #1967D2;\n",
              "      --hover-bg-color: #E2EBFA;\n",
              "      --hover-fill-color: #174EA6;\n",
              "      --disabled-fill-color: #AAA;\n",
              "      --disabled-bg-color: #DDD;\n",
              "  }\n",
              "\n",
              "  [theme=dark] .colab-df-quickchart {\n",
              "      --bg-color: #3B4455;\n",
              "      --fill-color: #D2E3FC;\n",
              "      --hover-bg-color: #434B5C;\n",
              "      --hover-fill-color: #FFFFFF;\n",
              "      --disabled-bg-color: #3B4455;\n",
              "      --disabled-fill-color: #666;\n",
              "  }\n",
              "\n",
              "  .colab-df-quickchart {\n",
              "    background-color: var(--bg-color);\n",
              "    border: none;\n",
              "    border-radius: 50%;\n",
              "    cursor: pointer;\n",
              "    display: none;\n",
              "    fill: var(--fill-color);\n",
              "    height: 32px;\n",
              "    padding: 0;\n",
              "    width: 32px;\n",
              "  }\n",
              "\n",
              "  .colab-df-quickchart:hover {\n",
              "    background-color: var(--hover-bg-color);\n",
              "    box-shadow: 0 1px 2px rgba(60, 64, 67, 0.3), 0 1px 3px 1px rgba(60, 64, 67, 0.15);\n",
              "    fill: var(--button-hover-fill-color);\n",
              "  }\n",
              "\n",
              "  .colab-df-quickchart-complete:disabled,\n",
              "  .colab-df-quickchart-complete:disabled:hover {\n",
              "    background-color: var(--disabled-bg-color);\n",
              "    fill: var(--disabled-fill-color);\n",
              "    box-shadow: none;\n",
              "  }\n",
              "\n",
              "  .colab-df-spinner {\n",
              "    border: 2px solid var(--fill-color);\n",
              "    border-color: transparent;\n",
              "    border-bottom-color: var(--fill-color);\n",
              "    animation:\n",
              "      spin 1s steps(1) infinite;\n",
              "  }\n",
              "\n",
              "  @keyframes spin {\n",
              "    0% {\n",
              "      border-color: transparent;\n",
              "      border-bottom-color: var(--fill-color);\n",
              "      border-left-color: var(--fill-color);\n",
              "    }\n",
              "    20% {\n",
              "      border-color: transparent;\n",
              "      border-left-color: var(--fill-color);\n",
              "      border-top-color: var(--fill-color);\n",
              "    }\n",
              "    30% {\n",
              "      border-color: transparent;\n",
              "      border-left-color: var(--fill-color);\n",
              "      border-top-color: var(--fill-color);\n",
              "      border-right-color: var(--fill-color);\n",
              "    }\n",
              "    40% {\n",
              "      border-color: transparent;\n",
              "      border-right-color: var(--fill-color);\n",
              "      border-top-color: var(--fill-color);\n",
              "    }\n",
              "    60% {\n",
              "      border-color: transparent;\n",
              "      border-right-color: var(--fill-color);\n",
              "    }\n",
              "    80% {\n",
              "      border-color: transparent;\n",
              "      border-right-color: var(--fill-color);\n",
              "      border-bottom-color: var(--fill-color);\n",
              "    }\n",
              "    90% {\n",
              "      border-color: transparent;\n",
              "      border-bottom-color: var(--fill-color);\n",
              "    }\n",
              "  }\n",
              "</style>\n",
              "\n",
              "  <script>\n",
              "    async function quickchart(key) {\n",
              "      const quickchartButtonEl =\n",
              "        document.querySelector('#' + key + ' button');\n",
              "      quickchartButtonEl.disabled = true;  // To prevent multiple clicks.\n",
              "      quickchartButtonEl.classList.add('colab-df-spinner');\n",
              "      try {\n",
              "        const charts = await google.colab.kernel.invokeFunction(\n",
              "            'suggestCharts', [key], {});\n",
              "      } catch (error) {\n",
              "        console.error('Error during call to suggestCharts:', error);\n",
              "      }\n",
              "      quickchartButtonEl.classList.remove('colab-df-spinner');\n",
              "      quickchartButtonEl.classList.add('colab-df-quickchart-complete');\n",
              "    }\n",
              "    (() => {\n",
              "      let quickchartButtonEl =\n",
              "        document.querySelector('#df-fd44fcb8-f43d-4ff0-80dc-4fdfab91d4de button');\n",
              "      quickchartButtonEl.style.display =\n",
              "        google.colab.kernel.accessAllowed ? 'block' : 'none';\n",
              "    })();\n",
              "  </script>\n",
              "</div>\n",
              "\n",
              "    </div>\n",
              "  </div>\n"
            ],
            "application/vnd.google.colaboratory.intrinsic+json": {
              "type": "dataframe",
              "variable_name": "data",
              "summary": "{\n  \"name\": \"data\",\n  \"rows\": 177,\n  \"fields\": [\n    {\n      \"column\": \"salary\",\n      \"properties\": {\n        \"dtype\": \"number\",\n        \"std\": 587,\n        \"min\": 100,\n        \"max\": 5299,\n        \"num_unique_values\": 166,\n        \"samples\": [\n          729,\n          1119,\n          950\n        ],\n        \"semantic_type\": \"\",\n        \"description\": \"\"\n      }\n    },\n    {\n      \"column\": \"age\",\n      \"properties\": {\n        \"dtype\": \"number\",\n        \"std\": 8,\n        \"min\": 33,\n        \"max\": 86,\n        \"num_unique_values\": 39,\n        \"samples\": [\n          80,\n          38,\n          44\n        ],\n        \"semantic_type\": \"\",\n        \"description\": \"\"\n      }\n    },\n    {\n      \"column\": \"college\",\n      \"properties\": {\n        \"dtype\": \"number\",\n        \"std\": 0,\n        \"min\": 0,\n        \"max\": 1,\n        \"num_unique_values\": 2,\n        \"samples\": [\n          0,\n          1\n        ],\n        \"semantic_type\": \"\",\n        \"description\": \"\"\n      }\n    },\n    {\n      \"column\": \"grad\",\n      \"properties\": {\n        \"dtype\": \"number\",\n        \"std\": 0,\n        \"min\": 0,\n        \"max\": 1,\n        \"num_unique_values\": 2,\n        \"samples\": [\n          0,\n          1\n        ],\n        \"semantic_type\": \"\",\n        \"description\": \"\"\n      }\n    },\n    {\n      \"column\": \"comten\",\n      \"properties\": {\n        \"dtype\": \"number\",\n        \"std\": 12,\n        \"min\": 2,\n        \"max\": 58,\n        \"num_unique_values\": 45,\n        \"samples\": [\n          6,\n          30\n        ],\n        \"semantic_type\": \"\",\n        \"description\": \"\"\n      }\n    },\n    {\n      \"column\": \"ceoten\",\n      \"properties\": {\n        \"dtype\": \"number\",\n        \"std\": 7,\n        \"min\": 0,\n        \"max\": 37,\n        \"num_unique_values\": 28,\n        \"samples\": [\n          37,\n          34\n        ],\n        \"semantic_type\": \"\",\n        \"description\": \"\"\n      }\n    },\n    {\n      \"column\": \"sales\",\n      \"properties\": {\n        \"dtype\": \"number\",\n        \"std\": 6088.6541933688295,\n        \"min\": 29.0,\n        \"max\": 51300.0,\n        \"num_unique_values\": 134,\n        \"samples\": [\n          605.0,\n          717.0\n        ],\n        \"semantic_type\": \"\",\n        \"description\": \"\"\n      }\n    },\n    {\n      \"column\": \"profits\",\n      \"properties\": {\n        \"dtype\": \"number\",\n        \"std\": 404,\n        \"min\": -463,\n        \"max\": 2700,\n        \"num_unique_values\": 132,\n        \"samples\": [\n          106,\n          131\n        ],\n        \"semantic_type\": \"\",\n        \"description\": \"\"\n      }\n    },\n    {\n      \"column\": \"mktval\",\n      \"properties\": {\n        \"dtype\": \"number\",\n        \"std\": 6442.276020149001,\n        \"min\": 387.0,\n        \"max\": 45400.0,\n        \"num_unique_values\": 128,\n        \"samples\": [\n          498.0,\n          4900.0\n        ],\n        \"semantic_type\": \"\",\n        \"description\": \"\"\n      }\n    },\n    {\n      \"column\": \"lsalary\",\n      \"properties\": {\n        \"dtype\": \"number\",\n        \"std\": 0.6060594267473229,\n        \"min\": 4.605170249938965,\n        \"max\": 8.575273513793945,\n        \"num_unique_values\": 166,\n        \"samples\": [\n          6.591673851013184,\n          7.020190715789795\n        ],\n        \"semantic_type\": \"\",\n        \"description\": \"\"\n      }\n    },\n    {\n      \"column\": \"lsales\",\n      \"properties\": {\n        \"dtype\": \"number\",\n        \"std\": 1.4320857028931318,\n        \"min\": 3.367295742034912,\n        \"max\": 10.84544563293457,\n        \"num_unique_values\": 134,\n        \"samples\": [\n          6.405228614807129,\n          6.575075626373291\n        ],\n        \"semantic_type\": \"\",\n        \"description\": \"\"\n      }\n    },\n    {\n      \"column\": \"lmktval\",\n      \"properties\": {\n        \"dtype\": \"number\",\n        \"std\": 1.1334139312312366,\n        \"min\": 5.9584245681762695,\n        \"max\": 10.723267555236816,\n        \"num_unique_values\": 128,\n        \"samples\": [\n          6.210599899291992,\n          8.496990203857422\n        ],\n        \"semantic_type\": \"\",\n        \"description\": \"\"\n      }\n    },\n    {\n      \"column\": \"comtensq\",\n      \"properties\": {\n        \"dtype\": \"number\",\n        \"std\": 577,\n        \"min\": 4,\n        \"max\": 3364,\n        \"num_unique_values\": 45,\n        \"samples\": [\n          36,\n          900\n        ],\n        \"semantic_type\": \"\",\n        \"description\": \"\"\n      }\n    },\n    {\n      \"column\": \"ceotensq\",\n      \"properties\": {\n        \"dtype\": \"number\",\n        \"std\": 212,\n        \"min\": 0,\n        \"max\": 1369,\n        \"num_unique_values\": 28,\n        \"samples\": [\n          1369,\n          1156\n        ],\n        \"semantic_type\": \"\",\n        \"description\": \"\"\n      }\n    },\n    {\n      \"column\": \"profmarg\",\n      \"properties\": {\n        \"dtype\": \"number\",\n        \"std\": 17.860743594043264,\n        \"min\": -203.0769195556641,\n        \"max\": 47.45762634277344,\n        \"num_unique_values\": 175,\n        \"samples\": [\n          7.705479621887207,\n          2.6990554332733154\n        ],\n        \"semantic_type\": \"\",\n        \"description\": \"\"\n      }\n    }\n  ]\n}"
            }
          },
          "metadata": {},
          "execution_count": 7
        }
      ]
    },
    {
      "cell_type": "markdown",
      "source": [
        "Dependent Variable: salary\n",
        "\n",
        "Independent Variables: **[age, company tenure, ceo tenure, sales, profits, market value]**"
      ],
      "metadata": {
        "id": "0cZ2Vy5aqGHn"
      }
    },
    {
      "cell_type": "code",
      "source": [
        "# defining variables\n",
        "y = data[\"salary\"]\n",
        "x = data[[\"age\", \"comten\", \"ceoten\", \"sales\", \"profits\", \"mktval\"]]\n",
        "\n",
        "# adding constant term to the independent variable\n",
        "X = sm.add_constant(x)"
      ],
      "metadata": {
        "id": "sFHOZeXbEVhB"
      },
      "execution_count": 8,
      "outputs": []
    },
    {
      "cell_type": "code",
      "source": [
        "# fitting the OLS model\n",
        "model = sm.OLS(y, X).fit()\n",
        "\n",
        "# printing model summary\n",
        "print(model.summary())"
      ],
      "metadata": {
        "colab": {
          "base_uri": "https://localhost:8080/"
        },
        "id": "OHerilFjd_LG",
        "outputId": "780eca93-1b90-4693-e424-d420ca4647bb"
      },
      "execution_count": 9,
      "outputs": [
        {
          "output_type": "stream",
          "name": "stdout",
          "text": [
            "                            OLS Regression Results                            \n",
            "==============================================================================\n",
            "Dep. Variable:                 salary   R-squared:                       0.208\n",
            "Model:                            OLS   Adj. R-squared:                  0.181\n",
            "Method:                 Least Squares   F-statistic:                     7.463\n",
            "Date:                Tue, 19 Mar 2024   Prob (F-statistic):           4.15e-07\n",
            "Time:                        19:21:24   Log-Likelihood:                -1358.5\n",
            "No. Observations:                 177   AIC:                             2731.\n",
            "Df Residuals:                     170   BIC:                             2753.\n",
            "Df Model:                           6                                         \n",
            "Covariance Type:            nonrobust                                         \n",
            "==============================================================================\n",
            "                 coef    std err          t      P>|t|      [0.025      0.975]\n",
            "------------------------------------------------------------------------------\n",
            "const        504.6397    282.063      1.789      0.075     -52.157    1061.437\n",
            "age            3.6080      5.611      0.643      0.521      -7.468      14.684\n",
            "comten        -4.6546      3.809     -1.222      0.223     -12.173       2.864\n",
            "ceoten        13.8017      6.138      2.249      0.026       1.685      25.918\n",
            "sales          0.0176      0.011      1.593      0.113      -0.004       0.040\n",
            "profits        0.0670      0.274      0.244      0.807      -0.474       0.608\n",
            "mktval         0.0212      0.016      1.341      0.182      -0.010       0.052\n",
            "==============================================================================\n",
            "Omnibus:                      193.258   Durbin-Watson:                   2.158\n",
            "Prob(Omnibus):                  0.000   Jarque-Bera (JB):             7349.891\n",
            "Skew:                           4.075   Prob(JB):                         0.00\n",
            "Kurtosis:                      33.499   Cond. No.                     6.85e+04\n",
            "==============================================================================\n",
            "\n",
            "Notes:\n",
            "[1] Standard Errors assume that the covariance matrix of the errors is correctly specified.\n",
            "[2] The condition number is large, 6.85e+04. This might indicate that there are\n",
            "strong multicollinearity or other numerical problems.\n"
          ]
        }
      ]
    },
    {
      "cell_type": "markdown",
      "source": [
        "Surprisingly, even at 10% level of signigficance, only one variable 'ceoten' is coming out to be statistically significant. Maybe we have included some variable (s) that is/are correlated with some other variable(s).\n",
        "\n",
        "Common sense says that the variable 'sales' are 'profits' might be correlated. And these two variables might be correlated with the variable 'mktval'. Let us inspect with the help of a heatmap."
      ],
      "metadata": {
        "id": "bQ1HBmi_s9gp"
      }
    },
    {
      "cell_type": "code",
      "source": [
        "corr = data.corr()\n",
        "fig = px.imshow(corr)\n",
        "fig.show()"
      ],
      "metadata": {
        "colab": {
          "base_uri": "https://localhost:8080/",
          "height": 542
        },
        "id": "5JpIyzz8quvz",
        "outputId": "c775026a-0b0c-45e7-bb91-ca2cbf1d25c4"
      },
      "execution_count": 10,
      "outputs": [
        {
          "output_type": "display_data",
          "data": {
            "text/html": [
              "<html>\n",
              "<head><meta charset=\"utf-8\" /></head>\n",
              "<body>\n",
              "    <div>            <script src=\"https://cdnjs.cloudflare.com/ajax/libs/mathjax/2.7.5/MathJax.js?config=TeX-AMS-MML_SVG\"></script><script type=\"text/javascript\">if (window.MathJax && window.MathJax.Hub && window.MathJax.Hub.Config) {window.MathJax.Hub.Config({SVG: {font: \"STIX-Web\"}});}</script>                <script type=\"text/javascript\">window.PlotlyConfig = {MathJaxConfig: 'local'};</script>\n",
              "        <script charset=\"utf-8\" src=\"https://cdn.plot.ly/plotly-2.24.1.min.js\"></script>                <div id=\"774c8d04-1178-4639-8a31-baeaca471f87\" class=\"plotly-graph-div\" style=\"height:525px; width:100%;\"></div>            <script type=\"text/javascript\">                                    window.PLOTLYENV=window.PLOTLYENV || {};                                    if (document.getElementById(\"774c8d04-1178-4639-8a31-baeaca471f87\")) {                    Plotly.newPlot(                        \"774c8d04-1178-4639-8a31-baeaca471f87\",                        [{\"coloraxis\":\"coloraxis\",\"name\":\"0\",\"x\":[\"salary\",\"age\",\"college\",\"grad\",\"comten\",\"ceoten\",\"sales\",\"profits\",\"mktval\",\"lsalary\",\"lsales\",\"lmktval\",\"comtensq\",\"ceotensq\",\"profmarg\"],\"y\":[\"salary\",\"age\",\"college\",\"grad\",\"comten\",\"ceoten\",\"sales\",\"profits\",\"mktval\",\"lsalary\",\"lsales\",\"lmktval\",\"comtensq\",\"ceotensq\",\"profmarg\"],\"z\":[[1.0,0.1153839439186736,-0.06702522289001807,-0.0029998319309540353,0.03769818728324734,0.14294767755517243,0.3802238746024325,0.3939275742678076,0.40630709656607705,0.8866871169155549,0.4317517001812717,0.441878721268192,0.03275194540327777,0.0693658863916713,-0.028935381453243956],[0.1153839439186736,1.0,-0.1780622702751037,-0.12316332293909897,0.47941353604942266,0.33874170444055496,0.12713402232733298,0.11474310200200367,0.1071793247099883,0.09055854569321402,0.19390789773017378,0.1310322351256996,0.5132706684986577,0.3298169074955846,0.014677932284892902],[-0.06702522289001807,-0.1780622702751037,1.0,0.18144527335621566,-0.15710925709282253,-0.10628842368887764,-0.021492271675726704,-0.045982091685430763,-0.02757796694148895,-0.0650440167747707,-0.07677381447118424,-0.05730098425083611,-0.15901123420047944,-0.07776329230908656,-0.017530829120587427],[-0.0029998319309540353,-0.12316332293909897,0.18144527335621566,1.0,-0.22833461328354257,-0.1028064530887187,0.07632622414237189,0.09782552937231621,0.12297606167327284,0.013136956260383751,0.08349052728267806,0.15012002132604974,-0.24256684198101192,-0.12031886727525926,-0.015395225100783784],[0.03769818728324734,0.47941353604942266,-0.15710925709282253,-0.22833461328354257,1.0,0.31512124286006854,0.10439983264208914,0.1437372365703204,0.13609599737858818,-0.002314524650234661,0.23781985486982057,0.10193141611459708,0.9651365719113678,0.32461306768853054,0.047173909879767384],[0.14294767755517243,0.33874170444055496,-0.10628842368887764,-0.1028064530887187,0.31512124286006854,1.0,-0.06771468504072668,-0.02160675028598855,0.00660942471339531,0.11472802297898656,-0.03768537477221491,-0.043469362844558775,0.3255515165954101,0.9285262164501505,0.04880469227612907],[0.3802238746024325,0.12713402232733298,-0.021492271675726704,0.07632622414237189,0.10439983264208914,-0.06771468504072668,1.0,0.7982872337267616,0.7546615981744793,0.40983211351954274,0.7177077899462694,0.6780597594497533,0.09411414547306331,-0.059653797981165275,-0.017353482967195015],[0.3939275742678076,0.11474310200200367,-0.045982091685430763,0.09782552937231621,0.1437372365703204,-0.02160675028598855,0.7982872337267616,1.0,0.9181279616055327,0.39669477881445336,0.6063324635751249,0.7768975920312075,0.1334710422785393,-0.010119380828525277,0.12547925285814843],[0.40630709656607705,0.1071793247099883,-0.02757796694148895,0.12297606167327284,0.13609599737858818,0.00660942471339531,0.7546615981744793,0.9181279616055327,1.0,0.40309372563589285,0.578540457366079,0.8090662736627867,0.12800687967727387,0.010011457826075303,0.06701876023185091],[0.8866871169155549,0.09055854569321402,-0.0650440167747707,0.013136956260383751,-0.002314524650234661,0.11472802297898656,0.40983211351954274,0.39669477881445336,0.40309372563589285,1.0,0.5299601729154978,0.4814909968123795,-0.024982111295188892,0.051806764152479125,-0.059272154433963005],[0.4317517001812717,0.19390789773017378,-0.07677381447118424,0.08349052728267806,0.23781985486982057,-0.03768537477221491,0.7177077899462694,0.6063324635751249,0.578540457366079,0.5299601729154978,1.0,0.7359231642378772,0.19920093288124247,-0.027415576148979583,-0.014593869087871286],[0.441878721268192,0.1310322351256996,-0.05730098425083611,0.15012002132604974,0.10193141611459708,-0.043469362844558775,0.6780597594497533,0.7768975920312075,0.8090662736627867,0.4814909968123795,0.7359231642378772,1.0,0.08350722276014093,-0.03623370668329796,0.060778016670258256],[0.03275194540327777,0.5132706684986577,-0.15901123420047944,-0.24256684198101192,0.9651365719113678,0.3255515165954101,0.09411414547306331,0.1334710422785393,0.12800687967727387,-0.024982111295188892,0.19920093288124247,0.08350722276014093,1.0,0.3536685133822513,0.03649650574129194],[0.0693658863916713,0.3298169074955846,-0.07776329230908656,-0.12031886727525926,0.32461306768853054,0.9285262164501505,-0.059653797981165275,-0.010119380828525277,0.010011457826075303,0.051806764152479125,-0.027415576148979583,-0.03623370668329796,0.3536685133822513,1.0,0.021291252775887688],[-0.028935381453243956,0.014677932284892902,-0.017530829120587427,-0.015395225100783784,0.047173909879767384,0.04880469227612907,-0.017353482967195015,0.12547925285814843,0.06701876023185091,-0.059272154433963005,-0.014593869087871286,0.060778016670258256,0.03649650574129194,0.021291252775887688,1.0]],\"type\":\"heatmap\",\"xaxis\":\"x\",\"yaxis\":\"y\",\"hovertemplate\":\"x: %{x}\\u003cbr\\u003ey: %{y}\\u003cbr\\u003ecolor: %{z}\\u003cextra\\u003e\\u003c\\u002fextra\\u003e\"}],                        {\"template\":{\"data\":{\"histogram2dcontour\":[{\"type\":\"histogram2dcontour\",\"colorbar\":{\"outlinewidth\":0,\"ticks\":\"\"},\"colorscale\":[[0.0,\"#0d0887\"],[0.1111111111111111,\"#46039f\"],[0.2222222222222222,\"#7201a8\"],[0.3333333333333333,\"#9c179e\"],[0.4444444444444444,\"#bd3786\"],[0.5555555555555556,\"#d8576b\"],[0.6666666666666666,\"#ed7953\"],[0.7777777777777778,\"#fb9f3a\"],[0.8888888888888888,\"#fdca26\"],[1.0,\"#f0f921\"]]}],\"choropleth\":[{\"type\":\"choropleth\",\"colorbar\":{\"outlinewidth\":0,\"ticks\":\"\"}}],\"histogram2d\":[{\"type\":\"histogram2d\",\"colorbar\":{\"outlinewidth\":0,\"ticks\":\"\"},\"colorscale\":[[0.0,\"#0d0887\"],[0.1111111111111111,\"#46039f\"],[0.2222222222222222,\"#7201a8\"],[0.3333333333333333,\"#9c179e\"],[0.4444444444444444,\"#bd3786\"],[0.5555555555555556,\"#d8576b\"],[0.6666666666666666,\"#ed7953\"],[0.7777777777777778,\"#fb9f3a\"],[0.8888888888888888,\"#fdca26\"],[1.0,\"#f0f921\"]]}],\"heatmap\":[{\"type\":\"heatmap\",\"colorbar\":{\"outlinewidth\":0,\"ticks\":\"\"},\"colorscale\":[[0.0,\"#0d0887\"],[0.1111111111111111,\"#46039f\"],[0.2222222222222222,\"#7201a8\"],[0.3333333333333333,\"#9c179e\"],[0.4444444444444444,\"#bd3786\"],[0.5555555555555556,\"#d8576b\"],[0.6666666666666666,\"#ed7953\"],[0.7777777777777778,\"#fb9f3a\"],[0.8888888888888888,\"#fdca26\"],[1.0,\"#f0f921\"]]}],\"heatmapgl\":[{\"type\":\"heatmapgl\",\"colorbar\":{\"outlinewidth\":0,\"ticks\":\"\"},\"colorscale\":[[0.0,\"#0d0887\"],[0.1111111111111111,\"#46039f\"],[0.2222222222222222,\"#7201a8\"],[0.3333333333333333,\"#9c179e\"],[0.4444444444444444,\"#bd3786\"],[0.5555555555555556,\"#d8576b\"],[0.6666666666666666,\"#ed7953\"],[0.7777777777777778,\"#fb9f3a\"],[0.8888888888888888,\"#fdca26\"],[1.0,\"#f0f921\"]]}],\"contourcarpet\":[{\"type\":\"contourcarpet\",\"colorbar\":{\"outlinewidth\":0,\"ticks\":\"\"}}],\"contour\":[{\"type\":\"contour\",\"colorbar\":{\"outlinewidth\":0,\"ticks\":\"\"},\"colorscale\":[[0.0,\"#0d0887\"],[0.1111111111111111,\"#46039f\"],[0.2222222222222222,\"#7201a8\"],[0.3333333333333333,\"#9c179e\"],[0.4444444444444444,\"#bd3786\"],[0.5555555555555556,\"#d8576b\"],[0.6666666666666666,\"#ed7953\"],[0.7777777777777778,\"#fb9f3a\"],[0.8888888888888888,\"#fdca26\"],[1.0,\"#f0f921\"]]}],\"surface\":[{\"type\":\"surface\",\"colorbar\":{\"outlinewidth\":0,\"ticks\":\"\"},\"colorscale\":[[0.0,\"#0d0887\"],[0.1111111111111111,\"#46039f\"],[0.2222222222222222,\"#7201a8\"],[0.3333333333333333,\"#9c179e\"],[0.4444444444444444,\"#bd3786\"],[0.5555555555555556,\"#d8576b\"],[0.6666666666666666,\"#ed7953\"],[0.7777777777777778,\"#fb9f3a\"],[0.8888888888888888,\"#fdca26\"],[1.0,\"#f0f921\"]]}],\"mesh3d\":[{\"type\":\"mesh3d\",\"colorbar\":{\"outlinewidth\":0,\"ticks\":\"\"}}],\"scatter\":[{\"fillpattern\":{\"fillmode\":\"overlay\",\"size\":10,\"solidity\":0.2},\"type\":\"scatter\"}],\"parcoords\":[{\"type\":\"parcoords\",\"line\":{\"colorbar\":{\"outlinewidth\":0,\"ticks\":\"\"}}}],\"scatterpolargl\":[{\"type\":\"scatterpolargl\",\"marker\":{\"colorbar\":{\"outlinewidth\":0,\"ticks\":\"\"}}}],\"bar\":[{\"error_x\":{\"color\":\"#2a3f5f\"},\"error_y\":{\"color\":\"#2a3f5f\"},\"marker\":{\"line\":{\"color\":\"#E5ECF6\",\"width\":0.5},\"pattern\":{\"fillmode\":\"overlay\",\"size\":10,\"solidity\":0.2}},\"type\":\"bar\"}],\"scattergeo\":[{\"type\":\"scattergeo\",\"marker\":{\"colorbar\":{\"outlinewidth\":0,\"ticks\":\"\"}}}],\"scatterpolar\":[{\"type\":\"scatterpolar\",\"marker\":{\"colorbar\":{\"outlinewidth\":0,\"ticks\":\"\"}}}],\"histogram\":[{\"marker\":{\"pattern\":{\"fillmode\":\"overlay\",\"size\":10,\"solidity\":0.2}},\"type\":\"histogram\"}],\"scattergl\":[{\"type\":\"scattergl\",\"marker\":{\"colorbar\":{\"outlinewidth\":0,\"ticks\":\"\"}}}],\"scatter3d\":[{\"type\":\"scatter3d\",\"line\":{\"colorbar\":{\"outlinewidth\":0,\"ticks\":\"\"}},\"marker\":{\"colorbar\":{\"outlinewidth\":0,\"ticks\":\"\"}}}],\"scattermapbox\":[{\"type\":\"scattermapbox\",\"marker\":{\"colorbar\":{\"outlinewidth\":0,\"ticks\":\"\"}}}],\"scatterternary\":[{\"type\":\"scatterternary\",\"marker\":{\"colorbar\":{\"outlinewidth\":0,\"ticks\":\"\"}}}],\"scattercarpet\":[{\"type\":\"scattercarpet\",\"marker\":{\"colorbar\":{\"outlinewidth\":0,\"ticks\":\"\"}}}],\"carpet\":[{\"aaxis\":{\"endlinecolor\":\"#2a3f5f\",\"gridcolor\":\"white\",\"linecolor\":\"white\",\"minorgridcolor\":\"white\",\"startlinecolor\":\"#2a3f5f\"},\"baxis\":{\"endlinecolor\":\"#2a3f5f\",\"gridcolor\":\"white\",\"linecolor\":\"white\",\"minorgridcolor\":\"white\",\"startlinecolor\":\"#2a3f5f\"},\"type\":\"carpet\"}],\"table\":[{\"cells\":{\"fill\":{\"color\":\"#EBF0F8\"},\"line\":{\"color\":\"white\"}},\"header\":{\"fill\":{\"color\":\"#C8D4E3\"},\"line\":{\"color\":\"white\"}},\"type\":\"table\"}],\"barpolar\":[{\"marker\":{\"line\":{\"color\":\"#E5ECF6\",\"width\":0.5},\"pattern\":{\"fillmode\":\"overlay\",\"size\":10,\"solidity\":0.2}},\"type\":\"barpolar\"}],\"pie\":[{\"automargin\":true,\"type\":\"pie\"}]},\"layout\":{\"autotypenumbers\":\"strict\",\"colorway\":[\"#636efa\",\"#EF553B\",\"#00cc96\",\"#ab63fa\",\"#FFA15A\",\"#19d3f3\",\"#FF6692\",\"#B6E880\",\"#FF97FF\",\"#FECB52\"],\"font\":{\"color\":\"#2a3f5f\"},\"hovermode\":\"closest\",\"hoverlabel\":{\"align\":\"left\"},\"paper_bgcolor\":\"white\",\"plot_bgcolor\":\"#E5ECF6\",\"polar\":{\"bgcolor\":\"#E5ECF6\",\"angularaxis\":{\"gridcolor\":\"white\",\"linecolor\":\"white\",\"ticks\":\"\"},\"radialaxis\":{\"gridcolor\":\"white\",\"linecolor\":\"white\",\"ticks\":\"\"}},\"ternary\":{\"bgcolor\":\"#E5ECF6\",\"aaxis\":{\"gridcolor\":\"white\",\"linecolor\":\"white\",\"ticks\":\"\"},\"baxis\":{\"gridcolor\":\"white\",\"linecolor\":\"white\",\"ticks\":\"\"},\"caxis\":{\"gridcolor\":\"white\",\"linecolor\":\"white\",\"ticks\":\"\"}},\"coloraxis\":{\"colorbar\":{\"outlinewidth\":0,\"ticks\":\"\"}},\"colorscale\":{\"sequential\":[[0.0,\"#0d0887\"],[0.1111111111111111,\"#46039f\"],[0.2222222222222222,\"#7201a8\"],[0.3333333333333333,\"#9c179e\"],[0.4444444444444444,\"#bd3786\"],[0.5555555555555556,\"#d8576b\"],[0.6666666666666666,\"#ed7953\"],[0.7777777777777778,\"#fb9f3a\"],[0.8888888888888888,\"#fdca26\"],[1.0,\"#f0f921\"]],\"sequentialminus\":[[0.0,\"#0d0887\"],[0.1111111111111111,\"#46039f\"],[0.2222222222222222,\"#7201a8\"],[0.3333333333333333,\"#9c179e\"],[0.4444444444444444,\"#bd3786\"],[0.5555555555555556,\"#d8576b\"],[0.6666666666666666,\"#ed7953\"],[0.7777777777777778,\"#fb9f3a\"],[0.8888888888888888,\"#fdca26\"],[1.0,\"#f0f921\"]],\"diverging\":[[0,\"#8e0152\"],[0.1,\"#c51b7d\"],[0.2,\"#de77ae\"],[0.3,\"#f1b6da\"],[0.4,\"#fde0ef\"],[0.5,\"#f7f7f7\"],[0.6,\"#e6f5d0\"],[0.7,\"#b8e186\"],[0.8,\"#7fbc41\"],[0.9,\"#4d9221\"],[1,\"#276419\"]]},\"xaxis\":{\"gridcolor\":\"white\",\"linecolor\":\"white\",\"ticks\":\"\",\"title\":{\"standoff\":15},\"zerolinecolor\":\"white\",\"automargin\":true,\"zerolinewidth\":2},\"yaxis\":{\"gridcolor\":\"white\",\"linecolor\":\"white\",\"ticks\":\"\",\"title\":{\"standoff\":15},\"zerolinecolor\":\"white\",\"automargin\":true,\"zerolinewidth\":2},\"scene\":{\"xaxis\":{\"backgroundcolor\":\"#E5ECF6\",\"gridcolor\":\"white\",\"linecolor\":\"white\",\"showbackground\":true,\"ticks\":\"\",\"zerolinecolor\":\"white\",\"gridwidth\":2},\"yaxis\":{\"backgroundcolor\":\"#E5ECF6\",\"gridcolor\":\"white\",\"linecolor\":\"white\",\"showbackground\":true,\"ticks\":\"\",\"zerolinecolor\":\"white\",\"gridwidth\":2},\"zaxis\":{\"backgroundcolor\":\"#E5ECF6\",\"gridcolor\":\"white\",\"linecolor\":\"white\",\"showbackground\":true,\"ticks\":\"\",\"zerolinecolor\":\"white\",\"gridwidth\":2}},\"shapedefaults\":{\"line\":{\"color\":\"#2a3f5f\"}},\"annotationdefaults\":{\"arrowcolor\":\"#2a3f5f\",\"arrowhead\":0,\"arrowwidth\":1},\"geo\":{\"bgcolor\":\"white\",\"landcolor\":\"#E5ECF6\",\"subunitcolor\":\"white\",\"showland\":true,\"showlakes\":true,\"lakecolor\":\"white\"},\"title\":{\"x\":0.05},\"mapbox\":{\"style\":\"light\"}}},\"xaxis\":{\"anchor\":\"y\",\"domain\":[0.0,1.0],\"scaleanchor\":\"y\",\"constrain\":\"domain\"},\"yaxis\":{\"anchor\":\"x\",\"domain\":[0.0,1.0],\"autorange\":\"reversed\",\"constrain\":\"domain\"},\"coloraxis\":{\"colorscale\":[[0.0,\"#0d0887\"],[0.1111111111111111,\"#46039f\"],[0.2222222222222222,\"#7201a8\"],[0.3333333333333333,\"#9c179e\"],[0.4444444444444444,\"#bd3786\"],[0.5555555555555556,\"#d8576b\"],[0.6666666666666666,\"#ed7953\"],[0.7777777777777778,\"#fb9f3a\"],[0.8888888888888888,\"#fdca26\"],[1.0,\"#f0f921\"]]},\"margin\":{\"t\":60}},                        {\"responsive\": true}                    ).then(function(){\n",
              "                            \n",
              "var gd = document.getElementById('774c8d04-1178-4639-8a31-baeaca471f87');\n",
              "var x = new MutationObserver(function (mutations, observer) {{\n",
              "        var display = window.getComputedStyle(gd).display;\n",
              "        if (!display || display === 'none') {{\n",
              "            console.log([gd, 'removed!']);\n",
              "            Plotly.purge(gd);\n",
              "            observer.disconnect();\n",
              "        }}\n",
              "}});\n",
              "\n",
              "// Listen for the removal of the full notebook cells\n",
              "var notebookContainer = gd.closest('#notebook-container');\n",
              "if (notebookContainer) {{\n",
              "    x.observe(notebookContainer, {childList: true});\n",
              "}}\n",
              "\n",
              "// Listen for the clearing of the current output cell\n",
              "var outputEl = gd.closest('.output');\n",
              "if (outputEl) {{\n",
              "    x.observe(outputEl, {childList: true});\n",
              "}}\n",
              "\n",
              "                        })                };                            </script>        </div>\n",
              "</body>\n",
              "</html>"
            ]
          },
          "metadata": {}
        }
      ]
    },
    {
      "cell_type": "markdown",
      "source": [
        "As we can see, variables 'sales' and 'profits' are highly correlated. These two variables are highly correlated with 'mktval' which makes sense.\n",
        "\n",
        "I am going to omit 'sales' and 'mktval' variables from the model."
      ],
      "metadata": {
        "id": "SGNxk1n_uV2a"
      }
    },
    {
      "cell_type": "code",
      "source": [
        "y = data[\"salary\"]\n",
        "x = data[[\"ceoten\", \"profits\"]]\n",
        "X = sm.add_constant(x)\n",
        "\n",
        "# fitting the OLS model\n",
        "model = sm.OLS(y, X).fit()\n",
        "\n",
        "# printing model summary\n",
        "print(model.summary())"
      ],
      "metadata": {
        "colab": {
          "base_uri": "https://localhost:8080/"
        },
        "id": "tdzc9u6ArS0C",
        "outputId": "e7f0b86c-1480-4b76-da16-5b12a7cc5677"
      },
      "execution_count": 33,
      "outputs": [
        {
          "output_type": "stream",
          "name": "stdout",
          "text": [
            "                            OLS Regression Results                            \n",
            "==============================================================================\n",
            "Dep. Variable:                 salary   R-squared:                       0.178\n",
            "Model:                            OLS   Adj. R-squared:                  0.169\n",
            "Method:                 Least Squares   F-statistic:                     18.86\n",
            "Date:                Tue, 19 Mar 2024   Prob (F-statistic):           3.87e-08\n",
            "Time:                        12:46:00   Log-Likelihood:                -1361.8\n",
            "No. Observations:                 177   AIC:                             2730.\n",
            "Df Residuals:                     174   BIC:                             2739.\n",
            "Df Model:                           2                                         \n",
            "Covariance Type:            nonrobust                                         \n",
            "==============================================================================\n",
            "                 coef    std err          t      P>|t|      [0.025      0.975]\n",
            "------------------------------------------------------------------------------\n",
            "const        646.8873     64.123     10.088      0.000     520.328     773.447\n",
            "ceoten        12.4513      5.649      2.204      0.029       1.303      23.600\n",
            "profits        0.5771      0.100      5.778      0.000       0.380       0.774\n",
            "==============================================================================\n",
            "Omnibus:                      180.205   Durbin-Watson:                   2.198\n",
            "Prob(Omnibus):                  0.000   Jarque-Bera (JB):             5491.743\n",
            "Skew:                           3.725   Prob(JB):                         0.00\n",
            "Kurtosis:                      29.252   Cond. No.                         724.\n",
            "==============================================================================\n",
            "\n",
            "Notes:\n",
            "[1] Standard Errors assume that the covariance matrix of the errors is correctly specified.\n"
          ]
        }
      ]
    },
    {
      "cell_type": "markdown",
      "source": [
        "Now we can see that the coefficients of the variables profits and ceoten are coming out to be statistically significant.\n",
        "\n",
        "The coefficient of ceoten is 12.45 that is the amount by which the salary of a ceo is expected to increase on an average with one additional year of tenure. But this is not very useful. What we would like to know is - by what percent on an avg. the salary of a ceo is expected to increase with one additional year of tenure. For this we need a log-lin model.\n",
        "\n",
        "Log-Lin model can take the following form: log(y_hat) = b0 + b1 * x1 + b2 * x2. I will cover this in another notebook with name: Functional Forms of Regression."
      ],
      "metadata": {
        "id": "6DUjwhvbKuaV"
      }
    }
  ]
}