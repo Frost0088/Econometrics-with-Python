{
  "nbformat": 4,
  "nbformat_minor": 0,
  "metadata": {
    "colab": {
      "provenance": [],
      "authorship_tag": "ABX9TyNfFvA7C3bds6c7cX/OXSXW",
      "include_colab_link": true
    },
    "kernelspec": {
      "name": "python3",
      "display_name": "Python 3"
    },
    "language_info": {
      "name": "python"
    }
  },
  "cells": [
    {
      "cell_type": "markdown",
      "metadata": {
        "id": "view-in-github",
        "colab_type": "text"
      },
      "source": [
        "<a href=\"https://colab.research.google.com/github/Frost0088/Econometrics-with-Python/blob/main/Simple_Linear_Regression.ipynb\" target=\"_parent\"><img src=\"https://colab.research.google.com/assets/colab-badge.svg\" alt=\"Open In Colab\"/></a>"
      ]
    },
    {
      "cell_type": "markdown",
      "source": [
        "**Simple Linear Regression**\n",
        "\n",
        "A simple linear regression is a straightforward approach of predicting a quantitative dependent variable based on a single explanatory variable. It assumes that there is approximately a linear relationship between X and Y. Mathematically, tnis linear relationship can be written as:\n",
        "\n",
        "                      𝑌 ≈ β1 + β2*𝑋                              (1.1)\n",
        "\n",
        "In the model, β1 and B2 are unknown constants that represent the intercept and the slope of the linear model respectively.\n",
        "\n",
        "#### **Interpretation of B1 and B2**\n",
        "\n",
        "In the linear model (1.1), B1 (intercept) is the value that the dependent variable Y takes when X takes the value of 0.\n",
        "\n",
        "B2 is the slope coefficient. It tells us by how much unit Y will change as X changes by one unit.\n",
        "\n",
        "Consider the following hypothetical model:\n",
        "\n",
        "                          sales = 4000 + 13*(advertisment_exp)\n",
        "\n",
        "The above model tells us that there will be a sales of $4,000 when advertisemet expenditure is nil. And sales increases by 13 units for each dollar spent on advertisent."
      ],
      "metadata": {
        "id": "W2OR_repKZOK"
      }
    },
    {
      "cell_type": "markdown",
      "source": [
        "B1 and B2 are unknows and we estimate them using data. The estimated model can be written as: y^ = b1^ + b2^*xi.\n",
        "\n",
        "y_hat is a prediction of Y on the basis X = x.The ^ symbol is used to denote the estimated value of an unknown parameter.\n",
        "\n",
        "\n",
        "\n",
        "\n",
        "\n",
        "\n",
        "\n"
      ],
      "metadata": {
        "id": "hC7BCewclGgP"
      }
    },
    {
      "cell_type": "markdown",
      "source": [
        "### Estimation of the Coefficients\n",
        "\n",
        "The question is how do we estimate the coefficients? We would want our prediction y_hat to be as close as possible to the actual Y. In other words, we would want to minimize the distance between what our model predicts for the dependent variable and its actual value.\n",
        "\n",
        "The distance between the actual and the predicted value is called a residual. It is mathematically written as:\n",
        "\n",
        "                            û = Y - ŷ\n",
        "                            û = Y - (b1+b2*x)\n",
        "\n",
        "We estimate B1 and B2 using the OLS (Ordinary Least Squares Method). In this method, we minimize the sum of squared residuals to obtain the coefficients that would produce a best fit line.\n",
        "\n",
        "Let yi = b1 + b2*xi be the prediction of Y based on the ith value of X.\n",
        "Then ui = y - yi is the ith residual.\n",
        "\n",
        "Then the Residual Sum of Squares (RSS) is defined by:\n",
        "\n",
        "                           RSS = u1^2 + u2^2 + ... + un^2\n",
        "Or equivalently as:\n",
        "\n",
        "  RSS = (y-b1^-b2*x_1)^2 + (y-b1^-b2^x_2)^2 + ... (y-b1^-b2^x_n)^2\n",
        "\n",
        "The least squares approach chooses b1^ and b2^ in order to  inimize the RSS. Using calculus, it can be shown that the minimizers are:\n",
        "\n",
        "The problem of estimating coefficients for the model is essentially the problem of finding the best fit line.\n",
        "\n"
      ],
      "metadata": {
        "id": "Z9sHw-bzmnyX"
      }
    },
    {
      "cell_type": "markdown",
      "source": [
        "### Illustration of the problem of finding a best fit line\n",
        "\n",
        "Suppose we have the following dataset."
      ],
      "metadata": {
        "id": "gMKyPFMUU1H_"
      }
    },
    {
      "cell_type": "code",
      "source": [],
      "metadata": {
        "id": "qJoeuzUcVVQt"
      },
      "execution_count": null,
      "outputs": []
    },
    {
      "cell_type": "markdown",
      "source": [],
      "metadata": {
        "id": "kM2l-qoYU1fl"
      }
    }
  ]
}